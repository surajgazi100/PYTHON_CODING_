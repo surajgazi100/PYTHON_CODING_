{
  "nbformat": 4,
  "nbformat_minor": 0,
  "metadata": {
    "colab": {
      "name": "BUbblesort_Example.ipynb",
      "provenance": [],
      "authorship_tag": "ABX9TyPulqa7pMO06yxKuX3w9bA1",
      "include_colab_link": true
    },
    "kernelspec": {
      "name": "python3",
      "display_name": "Python 3"
    }
  },
  "cells": [
    {
      "cell_type": "markdown",
      "metadata": {
        "id": "view-in-github",
        "colab_type": "text"
      },
      "source": [
        "<a href=\"https://colab.research.google.com/github/surajgazi100/PYTHON_CODING_/blob/main/BUbblesort_Example.ipynb\" target=\"_parent\"><img src=\"https://colab.research.google.com/assets/colab-badge.svg\" alt=\"Open In Colab\"/></a>"
      ]
    },
    {
      "cell_type": "code",
      "metadata": {
        "id": "fKre3hoAJZbE",
        "outputId": "1d903ae2-8883-4e51-a565-14d12c84255b",
        "colab": {
          "base_uri": "https://localhost:8080/",
          "height": 34
        }
      },
      "source": [
        "def bs(a):\n",
        "  b=len(a)-1\n",
        "  for x in range(b):\n",
        "    for y in range (b-x):\n",
        "      if a[y]>a[y+1]:\n",
        "        a[y],a[y+1] = a[y+1],a[y]\n",
        "  return a\n",
        "a = [3,6,1,8]\n",
        "bs(a)"
      ],
      "execution_count": 2,
      "outputs": [
        {
          "output_type": "execute_result",
          "data": {
            "text/plain": [
              "[1, 3, 6, 8]"
            ]
          },
          "metadata": {
            "tags": []
          },
          "execution_count": 2
        }
      ]
    }
  ]
}