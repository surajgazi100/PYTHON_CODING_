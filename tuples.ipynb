{
  "nbformat": 4,
  "nbformat_minor": 0,
  "metadata": {
    "colab": {
      "name": "Untitled71.ipynb",
      "provenance": [],
      "authorship_tag": "ABX9TyNUCkpOx2t5nTc9lWAVCRln",
      "include_colab_link": true
    },
    "kernelspec": {
      "name": "python3",
      "display_name": "Python 3"
    }
  },
  "cells": [
    {
      "cell_type": "markdown",
      "metadata": {
        "id": "view-in-github",
        "colab_type": "text"
      },
      "source": [
        "<a href=\"https://colab.research.google.com/github/surajgazi100/PYTHON_CODING_/blob/main/tuples.ipynb\" target=\"_parent\"><img src=\"https://colab.research.google.com/assets/colab-badge.svg\" alt=\"Open In Colab\"/></a>"
      ]
    },
    {
      "cell_type": "markdown",
      "metadata": {
        "id": "H9ooj_S2mHaH"
      },
      "source": [
        "# Split a string into a list where each word is a list item:"
      ]
    },
    {
      "cell_type": "markdown",
      "metadata": {
        "id": "wgv3VZYMwDyC"
      },
      "source": [
        "Python hash() method\r\n",
        "Last Updated: 04-12-2020\r\n",
        "In the new era of digital technology, Machine Learning, Artificial Intelligence and Cyber Security are a rising phenomenon. Python stands out as a language to implement much of the good sects of this.\r\n",
        "\r\n",
        "Python offers hash() method to encode the data into unrecognisable value."
      ]
    },
    {
      "cell_type": "code",
      "metadata": {
        "colab": {
          "base_uri": "https://localhost:8080/"
        },
        "id": "fA1L6zMMvjrW",
        "outputId": "78ee8ea1-ac8c-480c-ed87-f73a87635c76"
      },
      "source": [
        "# hash for integer unchanged\r\n",
        "print('Hash for 181 is:', hash(181))\r\n",
        "\r\n",
        "# hash for decimal\r\n",
        "print('Hash for 181.23 is:',hash(181.23))\r\n",
        "\r\n",
        "# hash for string\r\n",
        "print('Hash for Python is:', hash('Python'))"
      ],
      "execution_count": 7,
      "outputs": [
        {
          "output_type": "stream",
          "text": [
            "Hash for 181 is: 181\n",
            "Hash for 181.23 is: 530343892119126197\n",
            "Hash for Python is: 3228501316396939027\n"
          ],
          "name": "stdout"
        }
      ]
    },
    {
      "cell_type": "markdown",
      "metadata": {
        "id": "fAS2F_c4sQEm"
      },
      "source": [
        "map() function returns a map object(which is an iterator) of the results after applying the given function to each item of a given iterable (list, tuple etc."
      ]
    },
    {
      "cell_type": "code",
      "metadata": {
        "colab": {
          "base_uri": "https://localhost:8080/"
        },
        "id": "IxzGb6dOrxxe",
        "outputId": "86de2d34-a0a2-4b42-a822-a29acf2d0778"
      },
      "source": [
        "txt = \"welcome to the jungle\"\r\n",
        "\r\n",
        "x = txt.split()\r\n",
        "\r\n",
        "print(x)"
      ],
      "execution_count": 5,
      "outputs": [
        {
          "output_type": "stream",
          "text": [
            "['welcome', 'to', 'the', 'jungle']\n"
          ],
          "name": "stdout"
        }
      ]
    },
    {
      "cell_type": "code",
      "metadata": {
        "colab": {
          "base_uri": "https://localhost:8080/"
        },
        "id": "Eu8hRbUBmBvZ",
        "outputId": "7bd358dc-161d-4b92-8524-bb179bdc7ca2"
      },
      "source": [
        "if __name__ == '__main__':\r\n",
        "    n = int(input())\r\n",
        "    integer_list = map(int, input().split())\r\n",
        "    tup = tuple(integer_list)\r\n",
        "    print(hash(tup))\r\n",
        "\r\n"
      ],
      "execution_count": 4,
      "outputs": [
        {
          "output_type": "stream",
          "text": [
            "1\n",
            "2\n",
            "3430020387561\n"
          ],
          "name": "stdout"
        }
      ]
    }
  ]
}