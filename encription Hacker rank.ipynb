{
  "nbformat": 4,
  "nbformat_minor": 0,
  "metadata": {
    "colab": {
      "name": "Untitled39.ipynb",
      "provenance": [],
      "authorship_tag": "ABX9TyOLqApTHx/+2QUDkeMdtkza",
      "include_colab_link": true
    },
    "kernelspec": {
      "name": "python3",
      "display_name": "Python 3"
    }
  },
  "cells": [
    {
      "cell_type": "markdown",
      "metadata": {
        "id": "view-in-github",
        "colab_type": "text"
      },
      "source": [
        "<a href=\"https://colab.research.google.com/github/surajgazi100/PYTHON_CODING_/blob/main/encription%20Hacker%20rank.ipynb\" target=\"_parent\"><img src=\"https://colab.research.google.com/assets/colab-badge.svg\" alt=\"Open In Colab\"/></a>"
      ]
    },
    {
      "cell_type": "code",
      "metadata": {
        "id": "oFqW3FHQqb9a"
      },
      "source": [
        "import math\n",
        "import os\n",
        "\n",
        "# complete the encryption function below.\n",
        "def encryption(s):\n",
        "    L = len(s)\n",
        "    rows = int(math.floor(L**(0.5)))\n",
        "    columns = int(math.ceil(L**(0.5)))\n",
        "    output = \"\"\n",
        "    for i in range(columns):\n",
        "        k = i\n",
        "        for j in range(k,L,columns):\n",
        "            output+=s[j]\n",
        "        output+=\" \"\n",
        "    return output\n",
        "\n",
        "\n",
        "if __name__ == '__main__':\n",
        "    fptr = open(os.environ['OUTPUT_PATH'], 'w')\n",
        "    s = input()\n",
        "    result = encryption(s)\n",
        "    fptr.write(result + '\\n')\n",
        "    fptr.close()"
      ],
      "execution_count": null,
      "outputs": []
    }
  ]
}