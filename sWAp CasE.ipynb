{
  "nbformat": 4,
  "nbformat_minor": 0,
  "metadata": {
    "colab": {
      "name": "Untitled71.ipynb",
      "provenance": [],
      "authorship_tag": "ABX9TyN01cZzvuv3uSx2/2ztyG9t",
      "include_colab_link": true
    },
    "kernelspec": {
      "name": "python3",
      "display_name": "Python 3"
    }
  },
  "cells": [
    {
      "cell_type": "markdown",
      "metadata": {
        "id": "view-in-github",
        "colab_type": "text"
      },
      "source": [
        "<a href=\"https://colab.research.google.com/github/surajgazi100/PYTHON_CODING_/blob/main/sWAp%20CasE.ipynb\" target=\"_parent\"><img src=\"https://colab.research.google.com/assets/colab-badge.svg\" alt=\"Open In Colab\"/></a>"
      ]
    },
    {
      "cell_type": "markdown",
      "metadata": {
        "id": "H9ooj_S2mHaH"
      },
      "source": [
        "# Make the lower case letters upper case and the upper case letters lower case:"
      ]
    },
    {
      "cell_type": "code",
      "metadata": {
        "colab": {
          "base_uri": "https://localhost:8080/"
        },
        "id": "Eu8hRbUBmBvZ",
        "outputId": "3d490bec-a484-4d38-c6ef-58f1a64984fa"
      },
      "source": [
        "def swap_case(s):\r\n",
        "    return s.swapcase()\r\n",
        "\r\n",
        "if __name__ == '__main__':\r\n",
        "    s = input()\r\n",
        "    result = swap_case(s)\r\n",
        "    print(result)\r\n",
        "\r\n"
      ],
      "execution_count": 1,
      "outputs": [
        {
          "output_type": "stream",
          "text": [
            "heLLo\n",
            "HEllO\n"
          ],
          "name": "stdout"
        }
      ]
    }
  ]
}