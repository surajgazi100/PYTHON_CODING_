{
  "nbformat": 4,
  "nbformat_minor": 0,
  "metadata": {
    "colab": {
      "name": "Untitled72.ipynb",
      "provenance": [],
      "authorship_tag": "ABX9TyOvA3gXEtUbDPjBd98tqs/l",
      "include_colab_link": true
    },
    "kernelspec": {
      "name": "python3",
      "display_name": "Python 3"
    }
  },
  "cells": [
    {
      "cell_type": "markdown",
      "metadata": {
        "id": "view-in-github",
        "colab_type": "text"
      },
      "source": [
        "<a href=\"https://colab.research.google.com/github/surajgazi100/PYTHON_CODING_/blob/main/mutations.py%20.ipynb\" target=\"_parent\"><img src=\"https://colab.research.google.com/assets/colab-badge.svg\" alt=\"Open In Colab\"/></a>"
      ]
    },
    {
      "cell_type": "code",
      "metadata": {
        "id": "-HVoIEPfF7sy"
      },
      "source": [
        "def mutate_string(string, position, character):\r\n",
        "    out = list(string)\r\n",
        "    out[position] = character\r\n",
        "    return \"\".join(out)\r\n",
        "\r\n",
        "if __name__ == '__main__':\r\n",
        "    s = input()\r\n",
        "    i, c = input().split()\r\n",
        "    s_new = mutate_string(s, int(i), c)\r\n",
        "    print(s_new)"
      ],
      "execution_count": null,
      "outputs": []
    }
  ]
}